{
 "cells": [
  {
   "cell_type": "code",
   "execution_count": null,
   "id": "cb346f18",
   "metadata": {},
   "outputs": [],
   "source": [
    "1)Numpy kutubxonasini import qilish va massiv yaratish:"
   ]
  },
  {
   "cell_type": "code",
   "execution_count": 1,
   "id": "30052a2d",
   "metadata": {},
   "outputs": [
    {
     "name": "stdout",
     "output_type": "stream",
     "text": [
      "[1 2 3 4 5]\n",
      "[[1 2 3]\n",
      " [4 5 6]\n",
      " [7 8 9]]\n"
     ]
    }
   ],
   "source": [
    "import numpy as np\n",
    "\n",
    "# 1-dimentional array\n",
    "arr = np.array([1, 2, 3, 4, 5])\n",
    "print(arr)\n",
    "\n",
    "# 2-dimentional array\n",
    "arr_2d = np.array([[1, 2, 3], [4, 5, 6], [7, 8, 9]])\n",
    "print(arr_2d)\n"
   ]
  },
  {
   "cell_type": "code",
   "execution_count": null,
   "id": "f2689752",
   "metadata": {},
   "outputs": [],
   "source": [
    "2)Nol va birliklar massivi yaratish:"
   ]
  },
  {
   "cell_type": "code",
   "execution_count": 2,
   "id": "f40fafcb",
   "metadata": {},
   "outputs": [
    {
     "name": "stdout",
     "output_type": "stream",
     "text": [
      "[[0. 0. 0.]\n",
      " [0. 0. 0.]\n",
      " [0. 0. 0.]]\n",
      "[[1. 1. 1.]\n",
      " [1. 1. 1.]\n",
      " [1. 1. 1.]]\n"
     ]
    }
   ],
   "source": [
    "zeros = np.zeros((3,3))\n",
    "print(zeros)\n",
    "\n",
    "ones = np.ones((3,3))\n",
    "print(ones)\n"
   ]
  },
  {
   "cell_type": "code",
   "execution_count": null,
   "id": "edd6f6fb",
   "metadata": {},
   "outputs": [],
   "source": [
    "3)Arifmetik operatsiyalar:"
   ]
  },
  {
   "cell_type": "code",
   "execution_count": 3,
   "id": "90329632",
   "metadata": {},
   "outputs": [
    {
     "name": "stdout",
     "output_type": "stream",
     "text": [
      "[ 7  9 11 13 15]\n",
      "[-5 -5 -5 -5 -5]\n",
      "[ 6 14 24 36 50]\n",
      "[0.16666667 0.28571429 0.375      0.44444444 0.5       ]\n"
     ]
    }
   ],
   "source": [
    "x = np.array([1, 2, 3, 4, 5])\n",
    "y = np.array([6, 7, 8, 9, 10])\n",
    "\n",
    "# Addition\n",
    "print(x + y)\n",
    "\n",
    "# Subtraction\n",
    "print(x - y)\n",
    "\n",
    "# Multiplication\n",
    "print(x * y)\n",
    "\n",
    "# Division\n",
    "print(x / y)\n"
   ]
  },
  {
   "cell_type": "code",
   "execution_count": null,
   "id": "0cbf915a",
   "metadata": {},
   "outputs": [],
   "source": [
    "4)Indeksatsiya va kesim:"
   ]
  },
  {
   "cell_type": "code",
   "execution_count": 4,
   "id": "10129f6f",
   "metadata": {},
   "outputs": [
    {
     "name": "stdout",
     "output_type": "stream",
     "text": [
      "2\n",
      "[2 3 4 5 6]\n"
     ]
    }
   ],
   "source": [
    "arr = np.array([1, 2, 3, 4, 5, 6, 7, 8, 9])\n",
    "\n",
    "# Get the element at index 1\n",
    "print(arr[1])\n",
    "\n",
    "# Get the elements from index 1 to 5\n",
    "print(arr[1:6])\n"
   ]
  },
  {
   "cell_type": "code",
   "execution_count": null,
   "id": "afd263ed",
   "metadata": {},
   "outputs": [],
   "source": [
    "5)Numpy massivlari ustida statistik operatsiyalar:"
   ]
  },
  {
   "cell_type": "code",
   "execution_count": 5,
   "id": "f92c12bd",
   "metadata": {},
   "outputs": [
    {
     "name": "stdout",
     "output_type": "stream",
     "text": [
      "3.0\n",
      "3.0\n",
      "1.4142135623730951\n"
     ]
    }
   ],
   "source": [
    "arr = np.array([1, 2, 3, 4, 5])\n",
    "\n",
    "# Mean\n",
    "print(np.mean(arr))\n",
    "\n",
    "# Median\n",
    "print(np.median(arr))\n",
    "\n",
    "# Standard Deviation\n",
    "print(np.std(arr))\n"
   ]
  },
  {
   "cell_type": "code",
   "execution_count": null,
   "id": "70ba0bb9",
   "metadata": {},
   "outputs": [],
   "source": []
  }
 ],
 "metadata": {
  "kernelspec": {
   "display_name": "Python 3 (ipykernel)",
   "language": "python",
   "name": "python3"
  },
  "language_info": {
   "codemirror_mode": {
    "name": "ipython",
    "version": 3
   },
   "file_extension": ".py",
   "mimetype": "text/x-python",
   "name": "python",
   "nbconvert_exporter": "python",
   "pygments_lexer": "ipython3",
   "version": "3.9.7"
  }
 },
 "nbformat": 4,
 "nbformat_minor": 5
}
